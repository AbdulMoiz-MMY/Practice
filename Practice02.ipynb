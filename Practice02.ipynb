{
  "nbformat": 4,
  "nbformat_minor": 0,
  "metadata": {
    "colab": {
      "provenance": [],
      "authorship_tag": "ABX9TyPHdQ4m6oy+dRe3i73aNOMy",
      "include_colab_link": true
    },
    "kernelspec": {
      "name": "python3",
      "display_name": "Python 3"
    },
    "language_info": {
      "name": "python"
    }
  },
  "cells": [
    {
      "cell_type": "markdown",
      "metadata": {
        "id": "view-in-github",
        "colab_type": "text"
      },
      "source": [
        "<a href=\"https://colab.research.google.com/github/AbdulMoiz-MMY/Practice/blob/main/Practice02.ipynb\" target=\"_parent\"><img src=\"https://colab.research.google.com/assets/colab-badge.svg\" alt=\"Open In Colab\"/></a>"
      ]
    },
    {
      "cell_type": "code",
      "execution_count": 16,
      "metadata": {
        "id": "JdKieP9ESMt1"
      },
      "outputs": [],
      "source": [
        "!pip install -U -q  google-genai"
      ]
    },
    {
      "cell_type": "code",
      "source": [
        "from google.colab import userdata\n",
        "import os\n",
        "os.environ['GOOGLE_API_KEY']= userdata.get('GOOGLE_API_KEY')"
      ],
      "metadata": {
        "id": "mBKT4fKAWHO5"
      },
      "execution_count": 19,
      "outputs": []
    },
    {
      "cell_type": "code",
      "source": [
        "from google import genai\n",
        "client = genai.Client()"
      ],
      "metadata": {
        "id": "-Zk_hXMUWoIJ"
      },
      "execution_count": 21,
      "outputs": []
    },
    {
      "cell_type": "code",
      "source": [
        "MODEL:str =  \"gemini-2.0-flash-exp\""
      ],
      "metadata": {
        "id": "NORg7gCfaFFo"
      },
      "execution_count": 24,
      "outputs": []
    },
    {
      "cell_type": "code",
      "source": [
        "response = client.models.generate_content(\n",
        "    model = MODEL,\n",
        "    contents= 'How does AI works'\n",
        ")\n",
        "print(response.text)"
      ],
      "metadata": {
        "colab": {
          "base_uri": "https://localhost:8080/"
        },
        "id": "e4PjXvRzapCG",
        "outputId": "a7357128-2f35-474e-cbca-a0bc59e0187b"
      },
      "execution_count": 25,
      "outputs": [
        {
          "output_type": "stream",
          "name": "stdout",
          "text": [
            "Okay, let's break down how AI works, keeping it understandable without getting too bogged down in technical jargon. Think of AI as a really complex set of tools that can learn and solve problems, often mimicking human intelligence. Here's a simplified explanation, focusing on the core concepts:\n",
            "\n",
            "**1. The Foundation: Data**\n",
            "\n",
            "*   **AI needs to learn from data.** Imagine teaching a child - you wouldn't just give them rules without examples, right? AI is the same. It needs lots of examples to figure things out.\n",
            "*   **Data can be anything:** Images, text, numbers, sounds, etc. The type of data depends on what we want the AI to do.\n",
            "*   **The more data, the better (usually):** The more examples an AI sees, the better it can learn patterns and make accurate predictions or decisions.\n",
            "\n",
            "**2. Learning: Algorithms & Models**\n",
            "\n",
            "*   **Algorithms are recipes for learning:** These are sets of instructions that tell the AI how to analyze the data and adjust its internal \"knowledge.\"\n",
            "*   **Models are the \"brains\" of the AI:** They are the internal representations of the patterns the AI has learned from the data. Think of them as complex mathematical equations.\n",
            "*   **Different types of learning:**\n",
            "    *   **Supervised Learning:** We give the AI data *and* the correct answers (e.g., \"this is a cat,\" \"this is a dog\"). The AI learns to match the data to the correct answers.\n",
            "    *   **Unsupervised Learning:** We give the AI data without answers. The AI tries to find patterns and group similar items.\n",
            "    *   **Reinforcement Learning:** We have the AI learn through trial and error. The AI gets \"rewards\" for good actions and \"penalties\" for bad ones. Think of training a dog using treats.\n",
            "\n",
            "**3. Key Techniques**\n",
            "\n",
            "*   **Machine Learning (ML):** The most common type of AI. It's all about algorithms that allow computers to learn from data without being explicitly programmed.\n",
            "*   **Deep Learning (DL):** A subset of ML. It uses complex artificial neural networks with many layers to analyze data and extract more intricate features. DL is particularly good at tasks involving images, sounds, and natural language.\n",
            "*   **Neural Networks:** Inspired by the structure of the human brain, they are made up of interconnected nodes (\"neurons\") that process information. These networks learn by adjusting the connections between the neurons.\n",
            "\n",
            "**4. How it all Works Together (Simplified)**\n",
            "\n",
            "1.  **Data Input:** You feed data into the AI system.\n",
            "2.  **Learning:** The AI system applies an algorithm to learn from the data, adjusting the parameters of its model.\n",
            "3.  **Model Development:** A model is created that represents the patterns it has learned.\n",
            "4.  **Prediction/Action:**  You provide new, unseen data to the AI system.\n",
            "5.  **Output:** Based on what it has learned, the AI makes a prediction or takes an action.\n",
            "6.  **Evaluation and Refinement:** You see how well the AI did, and you may tweak the model or provide more data to improve performance. This process of learning and refining is iterative.\n",
            "\n",
            "**5. Examples in Real Life**\n",
            "\n",
            "*   **Image recognition:** AI identifies faces, objects, and even diseases in images.\n",
            "*   **Natural Language Processing (NLP):** AI powers chatbots, language translation, and spam filters.\n",
            "*   **Recommendation systems:** AI suggests movies, products, and music based on your preferences.\n",
            "*   **Autonomous vehicles:** AI processes information from sensors to navigate and drive without human control.\n",
            "*   **Medical diagnosis:** AI helps doctors diagnose diseases faster and more accurately.\n",
            "\n",
            "**Analogy: The \"Cookie Recipe\"**\n",
            "\n",
            "Think of baking cookies:\n",
            "\n",
            "*   **Data:** The recipe ingredients (flour, sugar, eggs, etc.) and instructions.\n",
            "*   **Algorithm:** The process of mixing and baking.\n",
            "*   **Model:** Your knowledge of baking based on your previous attempts and recipes.\n",
            "*   **Prediction:** You're able to predict how the cookies will look and taste based on your knowledge.\n",
            "\n",
            "**Key Takeaways:**\n",
            "\n",
            "*   AI learns from data, not through pre-programmed instructions alone.\n",
            "*   Machine learning algorithms and models are at the heart of AI.\n",
            "*   The goal is to create systems that can make predictions, solve problems, and improve over time.\n",
            "*   AI is not magic; it's based on complex math and statistics.\n",
            "\n",
            "**Important Note:** This is a very simplified explanation. The actual math and computer science behind AI are quite advanced. However, I hope this gives you a clear conceptual understanding of how AI generally works.\n",
            "\n",
            "Do you have any other questions about specific aspects of AI? I'm happy to explain them further.\n",
            "\n"
          ]
        }
      ]
    },
    {
      "cell_type": "code",
      "source": [],
      "metadata": {
        "id": "uYa_K3-WbsW4"
      },
      "execution_count": null,
      "outputs": []
    }
  ]
}